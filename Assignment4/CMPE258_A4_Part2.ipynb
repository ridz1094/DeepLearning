{
  "nbformat": 4,
  "nbformat_minor": 0,
  "metadata": {
    "colab": {
      "name": "CMPE258_A4_Part2.ipynb",
      "provenance": [],
      "collapsed_sections": []
    },
    "kernelspec": {
      "name": "python3",
      "display_name": "Python 3"
    },
    "language_info": {
      "name": "python"
    }
  },
  "cells": [
    {
      "cell_type": "code",
      "metadata": {
        "colab": {
          "base_uri": "https://localhost:8080/"
        },
        "id": "M6LGB2lY0H6y",
        "outputId": "18c71c5a-fb85-4d43-fe96-d339f49686c6"
      },
      "source": [
        "import pandas as pd\n",
        "import sys, numpy as np\n",
        "import requests, gzip, os, hashlib\n",
        "from keras.datasets import mnist\n",
        "%pylab inline\n",
        "import matplotlib.pyplot as plt\n",
        "import matplotlib.image as mpimg\n",
        "import seaborn as sns\n",
        "from keras.preprocessing.image import ImageDataGenerator\n",
        "from sklearn.model_selection import train_test_split\n",
        "from sklearn.metrics import confusion_matrix\n",
        "import itertools    \n",
        "from keras.utils.np_utils import to_categorical # convert to one-hot-encoding\n",
        "from keras.models import Sequential\n",
        "from keras.layers import Dense, Dropout, Flatten, Conv2D, MaxPool2D\n",
        "from keras.optimizers import RMSprop\n",
        "from keras.callbacks import ReduceLROnPlateau\n",
        "%matplotlib inline"
      ],
      "execution_count": 1,
      "outputs": [
        {
          "output_type": "stream",
          "text": [
            "Populating the interactive namespace from numpy and matplotlib\n"
          ],
          "name": "stdout"
        }
      ]
    },
    {
      "cell_type": "code",
      "metadata": {
        "id": "-PdhGUwZ00B9"
      },
      "source": [
        "(x_train, y_train), (x_test, y_test) = mnist.load_data()"
      ],
      "execution_count": 2,
      "outputs": []
    },
    {
      "cell_type": "code",
      "metadata": {
        "colab": {
          "base_uri": "https://localhost:8080/"
        },
        "id": "RS2pD_Fc018n",
        "outputId": "12e219ec-70b5-4c28-c33a-024cc923af24"
      },
      "source": [
        "x_train.size"
      ],
      "execution_count": 3,
      "outputs": [
        {
          "output_type": "execute_result",
          "data": {
            "text/plain": [
              "47040000"
            ]
          },
          "metadata": {
            "tags": []
          },
          "execution_count": 3
        }
      ]
    },
    {
      "cell_type": "code",
      "metadata": {
        "colab": {
          "base_uri": "https://localhost:8080/"
        },
        "id": "jdm2l0Ko06Us",
        "outputId": "5b15c113-62ef-4ff2-cb6a-bb8e214b0db3"
      },
      "source": [
        "x_test.size"
      ],
      "execution_count": 4,
      "outputs": [
        {
          "output_type": "execute_result",
          "data": {
            "text/plain": [
              "7840000"
            ]
          },
          "metadata": {
            "tags": []
          },
          "execution_count": 4
        }
      ]
    },
    {
      "cell_type": "code",
      "metadata": {
        "colab": {
          "base_uri": "https://localhost:8080/"
        },
        "id": "8NJ6Paos07dF",
        "outputId": "6b21a053-3753-4c41-8d15-ddfc907468ee"
      },
      "source": [
        "np.unique(y_test)"
      ],
      "execution_count": 5,
      "outputs": [
        {
          "output_type": "execute_result",
          "data": {
            "text/plain": [
              "array([0, 1, 2, 3, 4, 5, 6, 7, 8, 9], dtype=uint8)"
            ]
          },
          "metadata": {
            "tags": []
          },
          "execution_count": 5
        }
      ]
    },
    {
      "cell_type": "code",
      "metadata": {
        "colab": {
          "base_uri": "https://localhost:8080/"
        },
        "id": "D3GjVIM2088o",
        "outputId": "bb307b65-d1f0-486e-9651-99ab7ea0e5cc"
      },
      "source": [
        "x_train.shape"
      ],
      "execution_count": 6,
      "outputs": [
        {
          "output_type": "execute_result",
          "data": {
            "text/plain": [
              "(60000, 28, 28)"
            ]
          },
          "metadata": {
            "tags": []
          },
          "execution_count": 6
        }
      ]
    },
    {
      "cell_type": "code",
      "metadata": {
        "id": "IbiXyb980-KX"
      },
      "source": [
        "sns.set(style='white', context='notebook', palette='deep')"
      ],
      "execution_count": 7,
      "outputs": []
    },
    {
      "cell_type": "code",
      "metadata": {
        "id": "cm_w4rWb0_lb"
      },
      "source": [
        "def countplot(values):\n",
        "  sns.countplot(values)"
      ],
      "execution_count": 8,
      "outputs": []
    },
    {
      "cell_type": "code",
      "metadata": {
        "colab": {
          "base_uri": "https://localhost:8080/",
          "height": 323
        },
        "id": "P8CXg1EM1A8Z",
        "outputId": "120ce640-3c1e-4f03-b92a-87fe64e4f269"
      },
      "source": [
        "countplot(y_train)"
      ],
      "execution_count": 9,
      "outputs": [
        {
          "output_type": "stream",
          "text": [
            "/usr/local/lib/python3.7/dist-packages/seaborn/_decorators.py:43: FutureWarning: Pass the following variable as a keyword arg: x. From version 0.12, the only valid positional argument will be `data`, and passing other arguments without an explicit keyword will result in an error or misinterpretation.\n",
            "  FutureWarning\n"
          ],
          "name": "stderr"
        },
        {
          "output_type": "display_data",
          "data": {
            "image/png": "[encoded data removed]",
            "text/plain": [
              "<Figure size 432x288 with 1 Axes>"
            ]
          },
          "metadata": {
            "tags": []
          }
        }
      ]
    },
    {
      "cell_type": "code",
      "metadata": {
        "colab": {
          "base_uri": "https://localhost:8080/",
          "height": 322
        },
        "id": "S1EelW1n1Cen",
        "outputId": "7e5be5b0-f31e-470d-c921-3efeca9146df"
      },
      "source": [
        "countplot(y_test)"
      ],
      "execution_count": 10,
      "outputs": [
        {
          "output_type": "stream",
          "text": [
            "/usr/local/lib/python3.7/dist-packages/seaborn/_decorators.py:43: FutureWarning: Pass the following variable as a keyword arg: x. From version 0.12, the only valid positional argument will be `data`, and passing other arguments without an explicit keyword will result in an error or misinterpretation.\n",
            "  FutureWarning\n"
          ],
          "name": "stderr"
        },
        {
          "output_type": "display_data",
          "data": {
            "image/png": "[encoded data removed]",
            "text/plain": [
              "<Figure size 432x288 with 1 Axes>"
            ]
          },
          "metadata": {
            "tags": []
          }
        }
      ]
    },
    {
      "cell_type": "markdown",
      "metadata": {
        "id": "j48vsBxx1O-v"
      },
      "source": [
        "# Normalize"
      ]
    },
    {
      "cell_type": "code",
      "metadata": {
        "id": "PgzDd2Jo1DbX"
      },
      "source": [
        "x_train = x_train / 255.0\n",
        "x_test = x_test / 255.0"
      ],
      "execution_count": 11,
      "outputs": []
    },
    {
      "cell_type": "code",
      "metadata": {
        "id": "jis7Pt9D1Qib"
      },
      "source": [
        "x_train = x_train.reshape(-1,28,28,1)\n",
        "x_test = x_test.reshape(-1,28,28,1)\n",
        "x_train = x_train.astype('float32')"
      ],
      "execution_count": 12,
      "outputs": []
    },
    {
      "cell_type": "markdown",
      "metadata": {
        "id": "qH7qdc4v1oya"
      },
      "source": [
        "# One Hot Encoding"
      ]
    },
    {
      "cell_type": "code",
      "metadata": {
        "id": "HwRHGzc81ZLv"
      },
      "source": [
        "def convert_to_one_hot_encoding(labels, columns):\n",
        "  one_hot_labels = np.zeros((len(labels),columns))\n",
        "  for i, j in enumerate(labels):\n",
        "    one_hot_labels[i][j] = 1\n",
        "  return one_hot_labels\n",
        "   "
      ],
      "execution_count": 13,
      "outputs": []
    },
    {
      "cell_type": "code",
      "metadata": {
        "id": "t9X6rxGS1soY"
      },
      "source": [
        "train_labels = convert_to_one_hot_encoding(y_train, 10)"
      ],
      "execution_count": 14,
      "outputs": []
    },
    {
      "cell_type": "code",
      "metadata": {
        "id": "6ro-6uXM1s0_"
      },
      "source": [
        "test_labels = convert_to_one_hot_encoding(y_test, 10)"
      ],
      "execution_count": 15,
      "outputs": []
    },
    {
      "cell_type": "code",
      "metadata": {
        "colab": {
          "base_uri": "https://localhost:8080/",
          "height": 268
        },
        "id": "AZ4tI4rr1-KS",
        "outputId": "d801bd35-1637-4d21-db27-d7140d2f1e44"
      },
      "source": [
        "g = plt.imshow(x_train[0][:,:,0])"
      ],
      "execution_count": 16,
      "outputs": [
        {
          "output_type": "display_data",
          "data": {
            "image/png": "[encoded data removed]",
            "text/plain": [
              "<Figure size 432x288 with 1 Axes>"
            ]
          },
          "metadata": {
            "tags": []
          }
        }
      ]
    },
    {
      "cell_type": "markdown",
      "metadata": {
        "id": "Ou70SjBw2Fvv"
      },
      "source": [
        "# CNN"
      ]
    },
    {
      "cell_type": "code",
      "metadata": {
        "id": "84HMgrt51_MZ"
      },
      "source": [
        "model = Sequential()"
      ],
      "execution_count": 17,
      "outputs": []
    },
    {
      "cell_type": "code",
      "metadata": {
        "id": "DtPqzEz72QX0"
      },
      "source": [
        "model.add(Flatten(input_shape = (28,28,1)))\n",
        "model.add(Dense(1024, activation = \"relu\"))\n",
        "model.add(Dropout(0.2))\n",
        "model.add(Dense(512, activation = \"relu\"))\n",
        "model.add(Dense(1024, activation = \"relu\"))\n",
        "model.add(Dropout(0.2))\n",
        "model.add(Dense(512, activation = \"relu\"))\n",
        "model.add(Dropout(0.2))\n",
        "model.add(Dense(256, activation = \"relu\"))\n",
        "model.add(Dense(10, activation = \"softmax\"))"
      ],
      "execution_count": 18,
      "outputs": []
    },
    {
      "cell_type": "code",
      "metadata": {
        "colab": {
          "base_uri": "https://localhost:8080/"
        },
        "id": "bgRMqu-ws47Q",
        "outputId": "3cdcbc34-f887-40dd-f231-b080f397c889"
      },
      "source": [
        "model.summary()"
      ],
      "execution_count": 19,
      "outputs": [
        {
          "output_type": "stream",
          "text": [
            "Model: \"sequential\"\n",
            "_________________________________________________________________\n",
            "Layer (type)                 Output Shape              Param #   \n",
            "=================================================================\n",
            "flatten (Flatten)            (None, 784)               0         \n",
            "_________________________________________________________________\n",
            "dense (Dense)                (None, 1024)              803840    \n",
            "_________________________________________________________________\n",
            "dropout (Dropout)            (None, 1024)              0         \n",
            "_________________________________________________________________\n",
            "dense_1 (Dense)              (None, 512)               524800    \n",
            "_________________________________________________________________\n",
            "dense_2 (Dense)              (None, 1024)              525312    \n",
            "_________________________________________________________________\n",
            "dropout_1 (Dropout)          (None, 1024)              0         \n",
            "_________________________________________________________________\n",
            "dense_3 (Dense)              (None, 512)               524800    \n",
            "_________________________________________________________________\n",
            "dropout_2 (Dropout)          (None, 512)               0         \n",
            "_________________________________________________________________\n",
            "dense_4 (Dense)              (None, 256)               131328    \n",
            "_________________________________________________________________\n",
            "dense_5 (Dense)              (None, 10)                2570      \n",
            "=================================================================\n",
            "Total params: 2,512,650\n",
            "Trainable params: 2,512,650\n",
            "Non-trainable params: 0\n",
            "_________________________________________________________________\n"
          ],
          "name": "stdout"
        }
      ]
    },
    {
      "cell_type": "code",
      "metadata": {
        "id": "AmzqXMyB2o7F"
      },
      "source": [
        "optimizer = RMSprop(lr=0.001, rho=0.9, epsilon=1e-08, decay=0.01)\n"
      ],
      "execution_count": 20,
      "outputs": []
    },
    {
      "cell_type": "code",
      "metadata": {
        "id": "xmA8t28d2pSd"
      },
      "source": [
        "model.compile(optimizer = optimizer , loss = \"categorical_crossentropy\", metrics=[\"accuracy\"])"
      ],
      "execution_count": 21,
      "outputs": []
    },
    {
      "cell_type": "code",
      "metadata": {
        "id": "c0qGHxGh2rE_"
      },
      "source": [
        "learning_rate_reduction = ReduceLROnPlateau(monitor='val_acc', \n",
        "                                            patience=3, \n",
        "                                            verbose=1, \n",
        "                                            factor=0.5, \n",
        "                                            min_lr=0.00001)"
      ],
      "execution_count": 22,
      "outputs": []
    },
    {
      "cell_type": "code",
      "metadata": {
        "id": "5bxD0cw02teh"
      },
      "source": [
        "epochs = 30 # Turn epochs to 30 to get 0.9967 accuracy\n",
        "batch_size = 100"
      ],
      "execution_count": 23,
      "outputs": []
    },
    {
      "cell_type": "code",
      "metadata": {
        "id": "PfM3VJKr2va6"
      },
      "source": [
        "datagen = ImageDataGenerator(\n",
        "        featurewise_center=False,  # set input mean to 0 over the dataset\n",
        "        samplewise_center=False,  # set each sample mean to 0\n",
        "        featurewise_std_normalization=False,  # divide inputs by std of the dataset\n",
        "        samplewise_std_normalization=False,  # divide each input by its std\n",
        "        zca_whitening=False,  # apply ZCA whitening\n",
        "        rotation_range=10,  # randomly rotate images in the range (degrees, 0 to 180)\n",
        "        zoom_range = 0.1, # Randomly zoom image \n",
        "        width_shift_range=0.1,  # randomly shift images horizontally (fraction of total width)\n",
        "        height_shift_range=0.1,  # randomly shift images vertically (fraction of total height)\n",
        "        horizontal_flip=False,  # randomly flip images\n",
        "        vertical_flip=False)  # randomly flip images\n",
        "\n",
        "\n",
        "datagen.fit(x_train)"
      ],
      "execution_count": 24,
      "outputs": []
    },
    {
      "cell_type": "code",
      "metadata": {
        "colab": {
          "base_uri": "https://localhost:8080/"
        },
        "id": "7bVI-6za2yJV",
        "outputId": "ea730e17-a298-4d45-de6e-90a8cadc4ef1"
      },
      "source": [
        "history = model.fit(datagen.flow(x_train, train_labels, batch_size=batch_size),\n",
        "                              epochs = epochs, verbose = 1, validation_data = (x_test, test_labels), shuffle=True, steps_per_epoch=x_train.shape[0] // batch_size)\n",
        "                              # , callbacks=[learning_rate_reduction])"
      ],
      "execution_count": 25,
      "outputs": [
        {
          "output_type": "stream",
          "text": [
            "Epoch 1/30\n",
            "600/600 [==============================] - 42s 69ms/step - loss: 0.8748 - accuracy: 0.7086 - val_loss: 0.1019 - val_accuracy: 0.9672\n",
            "Epoch 2/30\n",
            "600/600 [==============================] - 41s 68ms/step - loss: 0.2136 - accuracy: 0.9332 - val_loss: 0.0851 - val_accuracy: 0.9724\n",
            "Epoch 3/30\n",
            "600/600 [==============================] - 41s 68ms/step - loss: 0.1646 - accuracy: 0.9500 - val_loss: 0.0778 - val_accuracy: 0.9749\n",
            "Epoch 4/30\n",
            "600/600 [==============================] - 41s 68ms/step - loss: 0.1524 - accuracy: 0.9527 - val_loss: 0.0717 - val_accuracy: 0.9768\n",
            "Epoch 5/30\n",
            "600/600 [==============================] - 41s 68ms/step - loss: 0.1436 - accuracy: 0.9568 - val_loss: 0.0665 - val_accuracy: 0.9798\n",
            "Epoch 6/30\n",
            "600/600 [==============================] - 41s 68ms/step - loss: 0.1353 - accuracy: 0.9584 - val_loss: 0.0650 - val_accuracy: 0.9802\n",
            "Epoch 7/30\n",
            "600/600 [==============================] - 41s 68ms/step - loss: 0.1323 - accuracy: 0.9616 - val_loss: 0.0612 - val_accuracy: 0.9803\n",
            "Epoch 8/30\n",
            "600/600 [==============================] - 41s 68ms/step - loss: 0.1277 - accuracy: 0.9614 - val_loss: 0.0586 - val_accuracy: 0.9815\n",
            "Epoch 9/30\n",
            "600/600 [==============================] - 41s 68ms/step - loss: 0.1185 - accuracy: 0.9634 - val_loss: 0.0567 - val_accuracy: 0.9812\n",
            "Epoch 10/30\n",
            "600/600 [==============================] - 41s 68ms/step - loss: 0.1223 - accuracy: 0.9636 - val_loss: 0.0574 - val_accuracy: 0.9803\n",
            "Epoch 11/30\n",
            "600/600 [==============================] - 41s 69ms/step - loss: 0.1153 - accuracy: 0.9642 - val_loss: 0.0568 - val_accuracy: 0.9813\n",
            "Epoch 12/30\n",
            "600/600 [==============================] - 41s 69ms/step - loss: 0.1130 - accuracy: 0.9648 - val_loss: 0.0558 - val_accuracy: 0.9815\n",
            "Epoch 13/30\n",
            "600/600 [==============================] - 41s 68ms/step - loss: 0.1143 - accuracy: 0.9650 - val_loss: 0.0543 - val_accuracy: 0.9818\n",
            "Epoch 14/30\n",
            "600/600 [==============================] - 41s 69ms/step - loss: 0.1112 - accuracy: 0.9670 - val_loss: 0.0533 - val_accuracy: 0.9819\n",
            "Epoch 15/30\n",
            "600/600 [==============================] - 41s 68ms/step - loss: 0.1132 - accuracy: 0.9657 - val_loss: 0.0536 - val_accuracy: 0.9824\n",
            "Epoch 16/30\n",
            "600/600 [==============================] - 41s 69ms/step - loss: 0.1110 - accuracy: 0.9653 - val_loss: 0.0528 - val_accuracy: 0.9828\n",
            "Epoch 17/30\n",
            "600/600 [==============================] - 41s 68ms/step - loss: 0.1085 - accuracy: 0.9664 - val_loss: 0.0525 - val_accuracy: 0.9823\n",
            "Epoch 18/30\n",
            "600/600 [==============================] - 41s 69ms/step - loss: 0.1066 - accuracy: 0.9678 - val_loss: 0.0513 - val_accuracy: 0.9823\n",
            "Epoch 19/30\n",
            "600/600 [==============================] - 41s 69ms/step - loss: 0.1062 - accuracy: 0.9674 - val_loss: 0.0505 - val_accuracy: 0.9838\n",
            "Epoch 20/30\n",
            "600/600 [==============================] - 41s 69ms/step - loss: 0.1018 - accuracy: 0.9688 - val_loss: 0.0509 - val_accuracy: 0.9831\n",
            "Epoch 21/30\n",
            "600/600 [==============================] - 41s 68ms/step - loss: 0.1052 - accuracy: 0.9685 - val_loss: 0.0508 - val_accuracy: 0.9830\n",
            "Epoch 22/30\n",
            "600/600 [==============================] - 41s 69ms/step - loss: 0.1044 - accuracy: 0.9687 - val_loss: 0.0502 - val_accuracy: 0.9829\n",
            "Epoch 23/30\n",
            "600/600 [==============================] - 41s 69ms/step - loss: 0.1067 - accuracy: 0.9681 - val_loss: 0.0493 - val_accuracy: 0.9836\n",
            "Epoch 24/30\n",
            "600/600 [==============================] - 41s 69ms/step - loss: 0.1047 - accuracy: 0.9689 - val_loss: 0.0499 - val_accuracy: 0.9837\n",
            "Epoch 25/30\n",
            "600/600 [==============================] - 41s 69ms/step - loss: 0.1005 - accuracy: 0.9686 - val_loss: 0.0504 - val_accuracy: 0.9837\n",
            "Epoch 26/30\n",
            "600/600 [==============================] - 41s 69ms/step - loss: 0.1022 - accuracy: 0.9692 - val_loss: 0.0502 - val_accuracy: 0.9839\n",
            "Epoch 27/30\n",
            "600/600 [==============================] - 41s 69ms/step - loss: 0.1024 - accuracy: 0.9679 - val_loss: 0.0495 - val_accuracy: 0.9841\n",
            "Epoch 28/30\n",
            "600/600 [==============================] - 41s 69ms/step - loss: 0.0997 - accuracy: 0.9681 - val_loss: 0.0488 - val_accuracy: 0.9841\n",
            "Epoch 29/30\n",
            "600/600 [==============================] - 42s 69ms/step - loss: 0.1031 - accuracy: 0.9680 - val_loss: 0.0483 - val_accuracy: 0.9839\n",
            "Epoch 30/30\n",
            "600/600 [==============================] - 41s 69ms/step - loss: 0.0993 - accuracy: 0.9694 - val_loss: 0.0482 - val_accuracy: 0.9844\n"
          ],
          "name": "stdout"
        }
      ]
    },
    {
      "cell_type": "code",
      "metadata": {
        "colab": {
          "base_uri": "https://localhost:8080/"
        },
        "id": "kncHo7pXyhQR",
        "outputId": "2f8f763f-37a2-49b0-f211-7127b5e843aa"
      },
      "source": [
        "print(\"Maximum Validation Accuracy achieved is 98.44%\")"
      ],
      "execution_count": 30,
      "outputs": [
        {
          "output_type": "stream",
          "text": [
            "Maximum Validation Accuracy achieved is 98.44%\n"
          ],
          "name": "stdout"
        }
      ]
    },
    {
      "cell_type": "code",
      "metadata": {
        "id": "aYVFUoU94luf",
        "colab": {
          "base_uri": "https://localhost:8080/",
          "height": 268
        },
        "outputId": "68458909-2d95-4866-d9f1-f53465828310"
      },
      "source": [
        "fig, ax = plt.subplots(2,1)\n",
        "ax[0].plot(history.history['loss'], color='b', label=\"Training loss\")\n",
        "ax[0].plot(history.history['val_loss'], color='r', label=\"validation loss\",axes =ax[0])\n",
        "legend = ax[0].legend(loc='best', shadow=True)\n",
        "\n",
        "ax[1].plot(history.history['accuracy'], color='b', label=\"Training accuracy\")\n",
        "ax[1].plot(history.history['val_accuracy'], color='r',label=\"Validation accuracy\")\n",
        "legend = ax[1].legend(loc='best', shadow=True)"
      ],
      "execution_count": 29,
      "outputs": [
        {
          "output_type": "display_data",
          "data": {
            "image/png": "[encoded data removed]",
            "text/plain": [
              "<Figure size 432x288 with 2 Axes>"
            ]
          },
          "metadata": {
            "tags": []
          }
        }
      ]
    },
    {
      "cell_type": "code",
      "metadata": {
        "id": "rbZ3ux7t-n6E",
        "colab": {
          "base_uri": "https://localhost:8080/",
          "height": 310
        },
        "outputId": "ef3ae728-179d-4ca9-c3d4-0ff5de63aa76"
      },
      "source": [
        "def plot_confusion_matrix(cm, classes,\n",
        "                          normalize=False,\n",
        "                          title='Confusion matrix',\n",
        "                          cmap=plt.cm.Blues):\n",
        "    \"\"\"\n",
        "    This function prints and plots the confusion matrix.\n",
        "    Normalization can be applied by setting `normalize=True`.\n",
        "    \"\"\"\n",
        "    plt.imshow(cm, interpolation='nearest', cmap=cmap)\n",
        "    plt.title(title)\n",
        "    plt.colorbar()\n",
        "    tick_marks = np.arange(len(classes))\n",
        "    plt.xticks(tick_marks, classes, rotation=45)\n",
        "    plt.yticks(tick_marks, classes)\n",
        "\n",
        "    if normalize:\n",
        "        cm = cm.astype('float') / cm.sum(axis=1)[:, np.newaxis]\n",
        "\n",
        "    thresh = cm.max() / 2.\n",
        "    for i, j in itertools.product(range(cm.shape[0]), range(cm.shape[1])):\n",
        "        plt.text(j, i, cm[i, j],\n",
        "                 horizontalalignment=\"center\",\n",
        "                 color=\"white\" if cm[i, j] > thresh else \"black\")\n",
        "\n",
        "    plt.tight_layout()\n",
        "    plt.ylabel('True label')\n",
        "    plt.xlabel('Predicted label')\n",
        "\n",
        "# Predict the values from the validation dataset\n",
        "Y_pred = model.predict(x_test)\n",
        "# Convert predictions classes to one hot vectors \n",
        "Y_pred_classes = np.argmax(Y_pred,axis = 1) \n",
        "# Convert validation observations to one hot vectors\n",
        "Y_true = np.argmax(test_labels,axis = 1) \n",
        "# compute the confusion matrix\n",
        "confusion_mtx = confusion_matrix(Y_true, Y_pred_classes) \n",
        "# plot the confusion matrix\n",
        "plot_confusion_matrix(confusion_mtx, classes = range(10)) "
      ],
      "execution_count": 27,
      "outputs": [
        {
          "output_type": "display_data",
          "data": {
            "image/png": "[encoded data removed]",
            "text/plain": [
              "<Figure size 432x288 with 2 Axes>"
            ]
          },
          "metadata": {
            "tags": []
          }
        }
      ]
    },
    {
      "cell_type": "code",
      "metadata": {
        "id": "DBQjf53520V0",
        "colab": {
          "base_uri": "https://localhost:8080/",
          "height": 298
        },
        "outputId": "28da10c3-6d86-4d60-eff2-80a269f7365c"
      },
      "source": [
        "# Display some error results \n",
        "\n",
        "# Errors are difference between predicted labels and true labels\n",
        "errors = (Y_pred_classes - Y_true != 0)\n",
        "\n",
        "Y_pred_classes_errors = Y_pred_classes[errors]\n",
        "Y_pred_errors = Y_pred[errors]\n",
        "Y_true_errors = Y_true[errors]\n",
        "X_val_errors = x_test[errors]\n",
        "\n",
        "def display_errors(errors_index,img_errors,pred_errors, obs_errors):\n",
        "    \"\"\" This function shows 6 images with their predicted and real labels\"\"\"\n",
        "    n = 0\n",
        "    nrows = 2\n",
        "    ncols = 3\n",
        "    fig, ax = plt.subplots(nrows,ncols,sharex=True,sharey=True)\n",
        "    for row in range(nrows):\n",
        "        for col in range(ncols):\n",
        "            error = errors_index[n]\n",
        "            ax[row,col].imshow((img_errors[error]).reshape((28,28)))\n",
        "            ax[row,col].set_title(\"Predicted label :{}\\nTrue label :{}\".format(pred_errors[error],obs_errors[error]))\n",
        "            n += 1\n",
        "\n",
        "# Probabilities of the wrong predicted numbers\n",
        "Y_pred_errors_prob = np.max(Y_pred_errors,axis = 1)\n",
        "\n",
        "# Predicted probabilities of the true values in the error set\n",
        "true_prob_errors = np.diagonal(np.take(Y_pred_errors, Y_true_errors, axis=1))\n",
        "\n",
        "# Difference between the probability of the predicted label and the true label\n",
        "delta_pred_true_errors = Y_pred_errors_prob - true_prob_errors\n",
        "\n",
        "# Sorted list of the delta prob errors\n",
        "sorted_dela_errors = np.argsort(delta_pred_true_errors)\n",
        "\n",
        "# Top 6 errors \n",
        "most_important_errors = sorted_dela_errors[-6:]\n",
        "\n",
        "# Show the top 6 errors\n",
        "display_errors(most_important_errors, X_val_errors, Y_pred_classes_errors, Y_true_errors)"
      ],
      "execution_count": 28,
      "outputs": [
        {
          "output_type": "display_data",
          "data": {
            "image/png": "[encoded data removed]",
            "text/plain": [
              "<Figure size 432x288 with 6 Axes>"
            ]
          },
          "metadata": {
            "tags": []
          }
        }
      ]
    },
    {
      "cell_type": "code",
      "metadata": {
        "id": "3QNyEdAx_YfN"
      },
      "source": [
        ""
      ],
      "execution_count": 28,
      "outputs": []
    }
  ]
}